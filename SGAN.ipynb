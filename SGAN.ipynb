{
  "nbformat": 4,
  "nbformat_minor": 0,
  "metadata": {
    "colab": {
      "provenance": [],
      "gpuType": "T4",
      "include_colab_link": true
    },
    "kernelspec": {
      "name": "python3",
      "display_name": "Python 3"
    },
    "language_info": {
      "name": "python"
    },
    "accelerator": "GPU"
  },
  "cells": [
    {
      "cell_type": "markdown",
      "metadata": {
        "id": "view-in-github",
        "colab_type": "text"
      },
      "source": [
        "<a href=\"https://colab.research.google.com/github/Bash-Code/Semi_supervised_GAN_DIGIT_RECOGNITION/blob/main/SGAN.ipynb\" target=\"_parent\"><img src=\"https://colab.research.google.com/assets/colab-badge.svg\" alt=\"Open In Colab\"/></a>"
      ]
    },
    {
      "cell_type": "markdown",
      "source": [
        "# SGAN handwritten Digit Recognition"
      ],
      "metadata": {
        "id": "wCsx1Hj8EQL6"
      }
    },
    {
      "cell_type": "code",
      "source": [
        "from numpy import expand_dims\n",
        "from numpy import zeros\n",
        "from numpy import ones\n",
        "from numpy import asarray\n",
        "from numpy.random import randn\n",
        "from numpy.random import randint\n",
        "from keras.datasets.mnist import load_data\n",
        "from keras.optimizers import Adam\n",
        "from keras.models import Model\n",
        "from keras.layers import Input,Dense,Reshape,Flatten,Conv2D,Conv2DTranspose,LeakyReLU,Dropout,Lambda,Activation\n",
        "from matplotlib import pyplot\n",
        "from keras import backend\n",
        "from keras.datasets import mnist\n",
        "from keras.utils import to_categorical\n",
        "import numpy as np\n",
        "import tensorflow as tf\n",
        "import matplotlib.pyplot as plt\n",
        "from numpy import expand_dims"
      ],
      "metadata": {
        "id": "xG_niixmVCQf"
      },
      "execution_count": null,
      "outputs": []
    },
    {
      "cell_type": "markdown",
      "source": [
        "# Section 1 : Prepare the Data"
      ],
      "metadata": {
        "id": "rMesOZtQUTd7"
      }
    },
    {
      "cell_type": "markdown",
      "source": [
        "in this section :\n",
        "1. we load the MNIST dataset and\n",
        "seperate our trainig and test data.\n",
        "We performed reshape and normalization to Data to scale the pixel values to the range [-1,1].\n",
        "then we encode the target categories using ontHot encoding\n",
        "\n",
        "2. we perform data separation on training the data to take 100 labeled data as the problem defines and 59900 unlabeled Data\n",
        "\n",
        "\n"
      ],
      "metadata": {
        "id": "TtDtI7ikphx6"
      }
    },
    {
      "cell_type": "code",
      "source": [
        "(train_images, train_labels), (test_images,test_labels) = mnist.load_data()"
      ],
      "metadata": {
        "colab": {
          "base_uri": "https://localhost:8080/"
        },
        "id": "Ct7v_rHfUbCw",
        "outputId": "94c8c5b7-ac45-4d4f-b3a6-a614f996a74d"
      },
      "execution_count": null,
      "outputs": [
        {
          "output_type": "stream",
          "name": "stdout",
          "text": [
            "Downloading data from https://storage.googleapis.com/tensorflow/tf-keras-datasets/mnist.npz\n",
            "11490434/11490434 [==============================] - 0s 0us/step\n"
          ]
        }
      ]
    },
    {
      "cell_type": "code",
      "source": [
        "train_images.shape"
      ],
      "metadata": {
        "colab": {
          "base_uri": "https://localhost:8080/"
        },
        "id": "T6reOZZkpr5B",
        "outputId": "a344f503-0585-4c1b-fe9c-edc4aac24481"
      },
      "execution_count": null,
      "outputs": [
        {
          "output_type": "execute_result",
          "data": {
            "text/plain": [
              "(60000, 28, 28)"
            ]
          },
          "metadata": {},
          "execution_count": 3
        }
      ]
    },
    {
      "cell_type": "code",
      "source": [
        "test_images.shape"
      ],
      "metadata": {
        "colab": {
          "base_uri": "https://localhost:8080/"
        },
        "id": "2ioSLr-Rp3b3",
        "outputId": "72fda09c-d3ba-48a6-e045-e77a81b2cfc5"
      },
      "execution_count": null,
      "outputs": [
        {
          "output_type": "execute_result",
          "data": {
            "text/plain": [
              "(10000, 28, 28)"
            ]
          },
          "metadata": {},
          "execution_count": 4
        }
      ]
    },
    {
      "cell_type": "code",
      "source": [
        "train_images = expand_dims(train_images, axis=-1)\n",
        "test_images = expand_dims(test_images, axis=-1)\n",
        "train_images = train_images.astype('float32')\n",
        "test_images = test_images.astype('float32')\n",
        "# normalisation des images de [0,255] à [-1,1]\n",
        "train_images = (train_images - 127.5) / 127.5\n",
        "test_images = (test_images - 127.5) / 127.5"
      ],
      "metadata": {
        "id": "Hud9Mezzl-6I"
      },
      "execution_count": null,
      "outputs": []
    },
    {
      "cell_type": "code",
      "source": [
        "#séparation du data set d'entrainement entre 100 données labélisée répartie de façon équilibrée entre 10 classes\n",
        "num_classes = 10\n",
        "num_images_per_class = 10\n",
        "\n",
        "train_images_labeled_list= []\n",
        "train_labels_list = []\n",
        "labeled_images_idx = []\n",
        "\n",
        "for i in range(num_classes):\n",
        "  images_per_class = train_images[train_labels == i]\n",
        "  indexes = np.where(train_labels == i)[0]\n",
        "  random_choosing = np.random.choice(indexes,num_images_per_class,replace = False)\n",
        "\n",
        "  train_images_labeled_list = train_images_labeled_list + [train_images[index] for index in random_choosing]\n",
        "  train_labels_list = train_labels_list + [train_labels[index] for index in random_choosing]\n",
        "  labeled_images_idx = labeled_images_idx + [index for index in random_choosing]\n",
        "\n",
        "train_images_labeled , train_labels_sub= asarray(train_images_labeled_list), asarray(train_labels_list)\n",
        "\n"
      ],
      "metadata": {
        "id": "yAp2XvACrVH8"
      },
      "execution_count": null,
      "outputs": []
    },
    {
      "cell_type": "code",
      "source": [
        "train_images_labeled.shape"
      ],
      "metadata": {
        "colab": {
          "base_uri": "https://localhost:8080/"
        },
        "id": "N0egNVt8wdG0",
        "outputId": "774496cb-808d-4a59-e69f-5586fe7687a4"
      },
      "execution_count": null,
      "outputs": [
        {
          "output_type": "execute_result",
          "data": {
            "text/plain": [
              "(100, 28, 28, 1)"
            ]
          },
          "metadata": {},
          "execution_count": 7
        }
      ]
    },
    {
      "cell_type": "code",
      "source": [
        "train_labels_sub.shape"
      ],
      "metadata": {
        "colab": {
          "base_uri": "https://localhost:8080/"
        },
        "id": "UYM6YAl4wtwf",
        "outputId": "9422d01f-5696-4bb1-91da-7f17185fdbfe"
      },
      "execution_count": null,
      "outputs": [
        {
          "output_type": "execute_result",
          "data": {
            "text/plain": [
              "(100,)"
            ]
          },
          "metadata": {},
          "execution_count": 8
        }
      ]
    },
    {
      "cell_type": "code",
      "source": [
        "len(labeled_images_idx)"
      ],
      "metadata": {
        "colab": {
          "base_uri": "https://localhost:8080/"
        },
        "id": "_qJD-dwy7Ko0",
        "outputId": "29a3a9ac-d91b-4b54-92d1-6ecded5448c0"
      },
      "execution_count": null,
      "outputs": [
        {
          "output_type": "execute_result",
          "data": {
            "text/plain": [
              "100"
            ]
          },
          "metadata": {},
          "execution_count": 9
        }
      ]
    },
    {
      "cell_type": "code",
      "source": [
        "def display_images(images):\n",
        "  for i in range(0,9):\n",
        "    pyplot.subplot(330+1+i)\n",
        "    pyplot.imshow(images[i], cmap=pyplot.get_cmap('gray'))\n",
        "    pyplot.show()"
      ],
      "metadata": {
        "id": "BcJhpiylg_g-"
      },
      "execution_count": null,
      "outputs": []
    },
    {
      "cell_type": "code",
      "source": [
        "#ici on prend le reste des images du dataset comme non labélisés (on néglige les labels dans l'entrainement)\n",
        "rest_of_images = np.delete(train_images,labeled_images_idx,axis=0)"
      ],
      "metadata": {
        "id": "JJA6NRHSEuNa"
      },
      "execution_count": null,
      "outputs": []
    },
    {
      "cell_type": "code",
      "source": [
        "rest_of_labels = np.delete(train_labels,labeled_images_idx,axis=0)"
      ],
      "metadata": {
        "id": "1J96NLT6OKMK"
      },
      "execution_count": null,
      "outputs": []
    },
    {
      "cell_type": "code",
      "source": [
        "rest_of_images.shape"
      ],
      "metadata": {
        "colab": {
          "base_uri": "https://localhost:8080/"
        },
        "id": "FwaJQOyiGhkw",
        "outputId": "983dd9d2-f2ef-4eb2-95cd-4ba38ad37621"
      },
      "execution_count": null,
      "outputs": [
        {
          "output_type": "execute_result",
          "data": {
            "text/plain": [
              "(59900, 28, 28, 1)"
            ]
          },
          "metadata": {},
          "execution_count": 13
        }
      ]
    },
    {
      "cell_type": "code",
      "source": [
        "rest_of_labels.shape"
      ],
      "metadata": {
        "colab": {
          "base_uri": "https://localhost:8080/"
        },
        "id": "kxtlqNV5OWY2",
        "outputId": "79b2cff4-f857-407b-b04a-5d914c8bbcfe"
      },
      "execution_count": null,
      "outputs": [
        {
          "output_type": "execute_result",
          "data": {
            "text/plain": [
              "(59900,)"
            ]
          },
          "metadata": {},
          "execution_count": 14
        }
      ]
    },
    {
      "cell_type": "code",
      "source": [
        "display_images(train_images_labeled)"
      ],
      "metadata": {
        "colab": {
          "base_uri": "https://localhost:8080/",
          "height": 1000
        },
        "id": "hDU1kUpLi87z",
        "outputId": "dc147b61-aec1-4ce0-ab93-d882a1364c36"
      },
      "execution_count": null,
      "outputs": [
        {
          "output_type": "display_data",
          "data": {
            "text/plain": [
              "<Figure size 640x480 with 1 Axes>"
            ],
            "image/png": "[encoded data removed]"
          },
          "metadata": {}
        },
        {
          "output_type": "display_data",
          "data": {
            "text/plain": [
              "<Figure size 640x480 with 1 Axes>"
            ],
            "image/png": "[encoded data removed]"
          },
          "metadata": {}
        },
        {
          "output_type": "display_data",
          "data": {
            "text/plain": [
              "<Figure size 640x480 with 1 Axes>"
            ],
            "image/png": "[encoded data removed]"
          },
          "metadata": {}
        },
        {
          "output_type": "display_data",
          "data": {
            "text/plain": [
              "<Figure size 640x480 with 1 Axes>"
            ],
            "image/png": "[encoded data removed]"
          },
          "metadata": {}
        },
        {
          "output_type": "display_data",
          "data": {
            "text/plain": [
              "<Figure size 640x480 with 1 Axes>"
            ],
            "image/png": "[encoded data removed]"
          },
          "metadata": {}
        },
        {
          "output_type": "display_data",
          "data": {
            "text/plain": [
              "<Figure size 640x480 with 1 Axes>"
            ],
            "image/png": "[encoded data removed]"
          },
          "metadata": {}
        },
        {
          "output_type": "display_data",
          "data": {
            "text/plain": [
              "<Figure size 640x480 with 1 Axes>"
            ],
            "image/png": "[encoded data removed]"
          },
          "metadata": {}
        },
        {
          "output_type": "display_data",
          "data": {
            "text/plain": [
              "<Figure size 640x480 with 1 Axes>"
            ],
            "image/png": "[encoded data removed]"
          },
          "metadata": {}
        },
        {
          "output_type": "display_data",
          "data": {
            "text/plain": [
              "<Figure size 640x480 with 1 Axes>"
            ],
            "image/png": "[encoded data removed]"
          },
          "metadata": {}
        }
      ]
    },
    {
      "cell_type": "code",
      "source": [
        "def generate_real_samples(dataset, n_samples):\n",
        "  images, labels = dataset\n",
        "  ix = randint(0, images.shape[0], n_samples)\n",
        "  X, labels = images[ix], labels[ix]\n",
        "  # les images réelles sont labélisée par 1\n",
        "  y = ones((n_samples, 1))\n",
        "  return [X, labels], y\n"
      ],
      "metadata": {
        "id": "IZ7PK88IBl8r"
      },
      "execution_count": null,
      "outputs": []
    },
    {
      "cell_type": "markdown",
      "source": [
        "# Section 2 : Prepare the Architeture Models for Semi-supervised GAN\n",
        "\n",
        "1. Discriminator\n",
        "2. Discriminator Supervised\n",
        "3. Discriminator Unsupervised\n",
        "4. generator\n",
        "5. GAN"
      ],
      "metadata": {
        "id": "qJaOWWOrUbs6"
      }
    },
    {
      "cell_type": "code",
      "source": [
        "def Discriminator():\n",
        "  in_image = Input(shape=(28,28,1))\n",
        "  # les deux modèles supervisé et non supérvisé partagent les mêmes couches de convolution\n",
        "  layer = Conv2D(128, (3,3), strides=(2,2), padding='same')(in_image)\n",
        "  layer = LeakyReLU(alpha=0.2)(layer)\n",
        "  layer = Conv2D(128, (3,3), strides=(2,2), padding='same')(layer)\n",
        "  layer = LeakyReLU(alpha=0.2)(layer)\n",
        "  layer = Conv2D(128, (3,3), strides=(2,2), padding='same')(layer)\n",
        "  layer = LeakyReLU(alpha=0.2)(layer)\n",
        "  layer = Flatten()(layer)\n",
        "  layer = Dropout(0.4)(layer)\n",
        "  #modèle supervisé\n",
        "  supervised_output_layer = Dense(10, activation='softmax')(layer)\n",
        "  supervised_model = Model(in_image, supervised_output_layer)\n",
        "  supervised_model.compile(loss='sparse_categorical_crossentropy', optimizer=Adam(lr=0.0002, beta_1=0.5), metrics=['accuracy'])\n",
        "  #modèle non-supervisé\n",
        "  unsupervised_output_layer = Dense(1, activation='sigmoid')(layer)\n",
        "  unsupervised_model = Model(in_image, unsupervised_output_layer)\n",
        "  unsupervised_model.compile(loss='binary_crossentropy', optimizer=Adam(lr=0.0002, beta_1=0.5))\n",
        "  return unsupervised_model, supervised_model\n"
      ],
      "metadata": {
        "id": "Ffao_kXtyimf"
      },
      "execution_count": null,
      "outputs": []
    },
    {
      "cell_type": "code",
      "source": [
        "#modèle du générateur\n",
        "def generator(latent_dim):\n",
        "  in_lat = Input(shape=(latent_dim,))\n",
        "\n",
        "  n_nodes = 128 * 7 * 7\n",
        "  #on commence par une couche Dense pour représenté une version de l'image de base résolution\n",
        "  layer = Dense(n_nodes)(in_lat)\n",
        "  layer = LeakyReLU(alpha=0.2)(layer)\n",
        "  layer = Reshape((7, 7, 128))(layer)\n",
        "  #les couches de transposition de convolution suivantes servent à effectuer un upscaling\n",
        "  layer = Conv2DTranspose(128, (4,4), strides=(2,2), padding='same')(layer)\n",
        "  layer = LeakyReLU(alpha=0.2)(layer)\n",
        "  layer = Conv2DTranspose(128, (4,4), strides=(2,2), padding='same')(layer)\n",
        "  layer = LeakyReLU(alpha=0.2)(layer)\n",
        "  generator_output_layer = Conv2D(1, (7,7), activation='tanh', padding='same')(layer)\n",
        "\n",
        "  generator_model = Model(in_lat, generator_output_layer)\n",
        "  return generator_model"
      ],
      "metadata": {
        "id": "U8X2FzWDyiP_"
      },
      "execution_count": null,
      "outputs": []
    },
    {
      "cell_type": "code",
      "source": [
        "# ce modèle on superpose les modèles de du discriminateur non supervisé et du génrateur pour redirigé les images fake vers le discriminateur.\n",
        "def gan(generator_model, unsupervised_model):\n",
        "  unsupervised_model.trainable = False\n",
        "  gan_output = unsupervised_model(generator_model.output)\n",
        "  model = Model(generator_model.input, gan_output)\n",
        "  opt = Adam(lr=0.0002, beta_1=0.5)\n",
        "  model.compile(loss='binary_crossentropy', optimizer=opt)\n",
        "  return model"
      ],
      "metadata": {
        "id": "GNTutTnCEcu9"
      },
      "execution_count": null,
      "outputs": []
    },
    {
      "cell_type": "code",
      "source": [
        "def generate_latent_points(latent_dim, n_samples):\n",
        "  z_input = randn(latent_dim * n_samples)\n",
        "  z_input = z_input.reshape(n_samples, latent_dim)\n",
        "  return z_input"
      ],
      "metadata": {
        "id": "qNX-e7wu98Zc"
      },
      "execution_count": null,
      "outputs": []
    },
    {
      "cell_type": "code",
      "source": [
        "def generate_fake_samples(generator, latent_dim, n_samples):\n",
        "  # on utilise la fonction d'avant pour générer un vecteur de points aléatoires de l'espace latent\n",
        "  z_input = generate_latent_points(latent_dim, n_samples)\n",
        "  images = generator.predict(z_input)\n",
        "  # les labels des classes Fake est 0\n",
        "  y = zeros((n_samples, 1))\n",
        "  return images, y"
      ],
      "metadata": {
        "id": "jFSDYO71_GnL"
      },
      "execution_count": null,
      "outputs": []
    },
    {
      "cell_type": "code",
      "source": [
        "latent_dim = 100\n",
        "n_epochs=10\n",
        "n_batch = 100"
      ],
      "metadata": {
        "id": "hLpbhbhdUu-m"
      },
      "execution_count": null,
      "outputs": []
    },
    {
      "cell_type": "markdown",
      "source": [
        "## Section 4 : Train the model"
      ],
      "metadata": {
        "id": "gXGmbeR-U18C"
      }
    },
    {
      "cell_type": "code",
      "execution_count": null,
      "metadata": {
        "id": "VeNzZdyzEOvx"
      },
      "outputs": [],
      "source": [
        "def train(generator_model, unsupervised_model, supervised_model, gan_model,latent_dim, n_epochs, n_batch):\n",
        "  X, y = train_images_labeled , train_labels_sub\n",
        "  print(X.shape, y.shape)\n",
        "  batch_per_epoch = int(train_images.shape[0] / n_batch)\n",
        "  n_steps = batch_per_epoch * n_epochs\n",
        "  half_batch = int(n_batch / 2)\n",
        "  print('n_epochs=%d, n_batch=%d, 1/2=%d, b/e=%d, steps=%d' % (n_epochs, n_batch, half_batch, batch_per_epoch, n_steps))\n",
        "\n",
        "  supervised_loss_history, supervised_acc_history = [], []\n",
        "  unsupervised_loss_real_history, unsupervised_loss_fake_history = [], []\n",
        "  g_loss_history = []\n",
        "\n",
        "  for i in range(n_steps):\n",
        "    # Mise à jour du discriminateur supervisé avec un demi batch des données réelles labélisée\n",
        "    [Xsup_real, ysup_real], _ = generate_real_samples([X, y], half_batch)\n",
        "    supervised_loss, supervised_acc = supervised_model.train_on_batch(Xsup_real, ysup_real)\n",
        "    supervised_loss_history.append(supervised_loss)\n",
        "    supervised_acc_history.append(supervised_acc)\n",
        "\n",
        "\t\t# Mise à jour deu Discriminateur non supervisé sur un demi batch de données réelles non labélisée et un demi batch de donnée générée par G\n",
        "    [X_real, _], y_real = generate_real_samples([rest_of_images,rest_of_labels], half_batch)\n",
        "    unsupervised_loss1 = unsupervised_model.train_on_batch(X_real, y_real)\n",
        "    X_fake, y_fake = generate_fake_samples(generator_model, latent_dim, half_batch)\n",
        "    unsupervised_loss2 = unsupervised_model.train_on_batch(X_fake, y_fake)\n",
        "    unsupervised_loss_real_history.append(unsupervised_loss1)\n",
        "    unsupervised_loss_fake_history.append(unsupervised_loss2)\n",
        "\n",
        "\t\t# Mise à jour du générateur à travers le modéle GAN\n",
        "    X_gan, y_gan = generate_latent_points(latent_dim, n_batch), ones((n_batch, 1))\n",
        "    g_loss = gan_model.train_on_batch(X_gan, y_gan)\n",
        "    g_loss_history.append(g_loss)\n",
        "\n",
        "\t\t# Résumer de la loss sur ce batch des modéles supervisé non supervisé et du générateur.\n",
        "    print('>%d, c[%.3f,%.0f], d[%.3f,%.3f], g[%.3f]' % (i+1, supervised_loss, supervised_acc*100, unsupervised_loss1, unsupervised_loss2, g_loss))\n",
        "\n",
        "    if (i+1) % (batch_per_epoch * 1) == 0:\n",
        "      summarize_performance(i, generator_model, supervised_model, latent_dim)\n",
        "\n",
        "  return supervised_loss_history, supervised_acc_history, unsupervised_loss_real_history, unsupervised_loss_fake_history, g_loss_history\n"
      ]
    },
    {
      "cell_type": "markdown",
      "source": [
        "la fonction suivante sert a calculer l'accuracy du modéle sur les données d'entrainement aprés pour l'itération entrée en paramétre de sauvegrader le modéle et de sauvegarder les images générées par le générateur à cette phase."
      ],
      "metadata": {
        "id": "1l7XRS6GwPMw"
      }
    },
    {
      "cell_type": "code",
      "source": [
        "def summarize_performance(step, g_model, c_model, latent_dim, n_samples=100):\n",
        "  X, _ = generate_fake_samples(g_model, latent_dim, n_samples)\n",
        "  X = (X + 1) / 2.0\n",
        "  for i in range(100):\n",
        "    pyplot.subplot(10, 10, 1 + i)\n",
        "    pyplot.axis('off')\n",
        "    pyplot.imshow(X[i, :, :, 0], cmap='gray_r')\n",
        "  filename1 = 'generated_plot_%04d.png' % (step+1)\n",
        "  pyplot.savefig(filename1)\n",
        "  pyplot.close()\n",
        "\n",
        "  X, y = train_images, train_labels\n",
        "  _, acc = c_model.evaluate(X, y, verbose=0)\n",
        "  print('Classifier Accuracy: %.3f%%' % (acc * 100))\n",
        "  filename2 = 'g_model_%04d.h5' % (step+1)\n",
        "  g_model.save(filename2)\n",
        "  filename3 = 'c_model_%04d.h5' % (step+1)\n",
        "  c_model.save(filename3)\n",
        "  print('>Saved: %s, %s, and %s' % (filename1, filename2, filename3))"
      ],
      "metadata": {
        "id": "FkiQePX6LUUq"
      },
      "execution_count": null,
      "outputs": []
    },
    {
      "cell_type": "code",
      "source": [
        "unsupervised_discriminator, supervised_discriminator = Discriminator()\n",
        "generator = generator(latent_dim)\n",
        "gan = gan(generator,unsupervised_discriminator)\n"
      ],
      "metadata": {
        "colab": {
          "base_uri": "https://localhost:8080/"
        },
        "id": "yS7Yyx74D6TZ",
        "outputId": "38d18a08-4a73-44c8-c89f-0f0d9bbb65a7"
      },
      "execution_count": null,
      "outputs": [
        {
          "output_type": "stream",
          "name": "stderr",
          "text": [
            "WARNING:absl:`lr` is deprecated in Keras optimizer, please use `learning_rate` or use the legacy optimizer, e.g.,tf.keras.optimizers.legacy.Adam.\n",
            "WARNING:absl:`lr` is deprecated in Keras optimizer, please use `learning_rate` or use the legacy optimizer, e.g.,tf.keras.optimizers.legacy.Adam.\n",
            "WARNING:absl:`lr` is deprecated in Keras optimizer, please use `learning_rate` or use the legacy optimizer, e.g.,tf.keras.optimizers.legacy.Adam.\n"
          ]
        }
      ]
    },
    {
      "cell_type": "code",
      "source": [
        "supervised_loss_history, supervised_acc_history, unsupervised_loss_real_history, unsupervised_loss_fake_history, g_loss_history = train(generator,unsupervised_discriminator,supervised_discriminator,gan,latent_dim,n_epochs,n_batch)"
      ],
      "metadata": {
        "id": "pQ5ID98VKaTe"
      },
      "execution_count": null,
      "outputs": []
    },
    {
      "cell_type": "markdown",
      "source": [
        "# Section 5 : evaluate the model"
      ],
      "metadata": {
        "id": "wHS6JfmVU7Tr"
      }
    },
    {
      "cell_type": "code",
      "source": [
        "from numpy import expand_dims\n",
        "from keras.models import load_model\n",
        "from keras.datasets.mnist import load_data"
      ],
      "metadata": {
        "id": "3x-_OTHnVALT"
      },
      "execution_count": null,
      "outputs": []
    },
    {
      "cell_type": "code",
      "source": [
        "#test du modéle sur les données d'entraienement et de test\n",
        "model = load_model('c_model_5400.h5')\n",
        "_, train_accuracy = model.evaluate(train_images, train_labels, verbose=0)\n",
        "print('Train Accuracy: %.3f%%' % (train_accuracy * 100))\n",
        "_, test_accuracy = model.evaluate(test_images,test_labels)\n",
        "print('Test Accuracy: %.3f%%' % (test_accuracy * 100))"
      ],
      "metadata": {
        "id": "b4JNZp6NYYAU"
      },
      "execution_count": null,
      "outputs": []
    },
    {
      "cell_type": "code",
      "source": [
        "test_labels.shape"
      ],
      "metadata": {
        "id": "BMCHtcv9_aIt"
      },
      "execution_count": null,
      "outputs": []
    },
    {
      "cell_type": "code",
      "source": [
        "from sklearn.metrics import confusion_matrix\n",
        "import seaborn as sns\n",
        "\n",
        "# on affiche la matrice de confusion\n",
        "y_pred = model.predict(test_images)\n",
        "y_pred_classes = np.argmax(y_pred, axis=1)\n",
        "y_true = test_labels\n",
        "conf_matrix = confusion_matrix(y_true, y_pred_classes)\n",
        "\n",
        "plt.figure(figsize=(10, 7))\n",
        "sns.heatmap(conf_matrix, annot=True, fmt='d', cmap='Blues')\n",
        "plt.title('Confusion Matrix')\n",
        "plt.ylabel('True Labels')\n",
        "plt.xlabel('Predicted Labels')\n",
        "plt.show()"
      ],
      "metadata": {
        "colab": {
          "base_uri": "https://localhost:8080/",
          "height": 658
        },
        "id": "Th-8bExbyXjk",
        "outputId": "77c6ab3c-0ac1-4596-ac63-545793383207"
      },
      "execution_count": null,
      "outputs": [
        {
          "output_type": "stream",
          "name": "stdout",
          "text": [
            "313/313 [==============================] - 1s 4ms/step\n"
          ]
        },
        {
          "output_type": "display_data",
          "data": {
            "text/plain": [
              "<Figure size 1000x700 with 2 Axes>"
            ],
            "image/png": "[encoded data removed]"
          },
          "metadata": {}
        }
      ]
    }
  ]
}